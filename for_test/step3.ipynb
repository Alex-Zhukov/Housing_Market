{
 "cells": [
  {
   "cell_type": "code",
   "execution_count": 1,
   "id": "4485bf1d",
   "metadata": {},
   "outputs": [],
   "source": [
    "import pandas as pd\n",
    "import numpy as np\n",
    "import json\n",
    "import dill\n",
    "\n",
    "from sklearn.metrics import mean_squared_log_error\n",
    "from urllib import request, parse\n",
    "\n",
    "X_test = pd.read_csv(\"X_test.csv\")\n",
    "y_test = pd.read_csv(\"y_test.csv\", index_col='id')"
   ]
  },
  {
   "cell_type": "code",
   "execution_count": 2,
   "id": "9b563a66",
   "metadata": {},
   "outputs": [],
   "source": [
    "pred_columns = X_test.columns.to_list()"
   ]
  },
  {
   "cell_type": "code",
   "execution_count": 170,
   "id": "f4e912c1",
   "metadata": {},
   "outputs": [],
   "source": [
    "import urllib.request\n",
    "import json      \n",
    "\n",
    "class NpEncoder(json.JSONEncoder):\n",
    "    def default(self, obj):\n",
    "        if isinstance(obj, np.integer):\n",
    "            return int(obj)\n",
    "        elif isinstance(obj, np.floating):\n",
    "            return float(obj)\n",
    "        elif isinstance(obj, np.ndarray):\n",
    "            return obj.tolist()\n",
    "        else:\n",
    "            return super(NpEncoder, self).default(obj)\n",
    "        \n",
    "def get_prediction(house_parameters: list):\n",
    "    \n",
    "    body = dict(zip(pred_columns, house_parameters))\n",
    "\n",
    "    myurl = \"http://0.0.0.0:8180/predict\"\n",
    "    req = urllib.request.Request(myurl)\n",
    "    req.add_header('Content-Type', 'application/json; charset=utf-8')\n",
    "    jsondata = json.dumps(body, cls=NpEncoder)\n",
    "    jsondataasbytes = jsondata.encode('utf-8')   # needs to be bytes\n",
    "    req.add_header('Content-Length', len(jsondataasbytes))\n",
    "    response = urllib.request.urlopen(req, jsondataasbytes)\n",
    "    return json.loads(response.read())['predictions']"
   ]
  },
  {
   "cell_type": "code",
   "execution_count": 177,
   "id": "ba8f226e",
   "metadata": {},
   "outputs": [],
   "source": [
    "predictions = X_test.iloc[:10].apply(lambda x: get_prediction(x.tolist()), 1)"
   ]
  },
  {
   "cell_type": "code",
   "execution_count": null,
   "id": "c2dea1c6",
   "metadata": {},
   "outputs": [],
   "source": [
    "predictions"
   ]
  },
  {
   "cell_type": "code",
   "execution_count": 181,
   "id": "5c02ee71",
   "metadata": {},
   "outputs": [
    {
     "data": {
      "text/plain": [
       "0.014944277111276983"
      ]
     },
     "execution_count": 181,
     "metadata": {},
     "output_type": "execute_result"
    }
   ],
   "source": [
    "mean_squared_log_error(y_test.iloc[:10], predictions.values)"
   ]
  },
  {
   "cell_type": "code",
   "execution_count": null,
   "id": "647b70b9",
   "metadata": {},
   "outputs": [],
   "source": []
  }
 ],
 "metadata": {
  "kernelspec": {
   "display_name": "Python 3",
   "language": "python",
   "name": "python3"
  },
  "language_info": {
   "codemirror_mode": {
    "name": "ipython",
    "version": 3
   },
   "file_extension": ".py",
   "mimetype": "text/x-python",
   "name": "python",
   "nbconvert_exporter": "python",
   "pygments_lexer": "ipython3",
   "version": "3.8.8"
  }
 },
 "nbformat": 4,
 "nbformat_minor": 5
}
